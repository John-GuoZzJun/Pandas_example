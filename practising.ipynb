{
 "cells": [
  {
   "cell_type": "code",
   "execution_count": 2,
   "metadata": {
    "collapsed": true,
    "pycharm": {
     "name": "#%%\n"
    }
   },
   "outputs": [
    {
     "data": {
      "text/plain": "   age     sex    bmi  children smoker     region     charges\n0   19  female  27.90         0    yes  southwest  16884.9240\n1   18    male  33.77         1     no  southeast   1725.5523\n2   28    male  33.00         3     no  southeast   4449.4620",
      "text/html": "<div>\n<style scoped>\n    .dataframe tbody tr th:only-of-type {\n        vertical-align: middle;\n    }\n\n    .dataframe tbody tr th {\n        vertical-align: top;\n    }\n\n    .dataframe thead th {\n        text-align: right;\n    }\n</style>\n<table border=\"1\" class=\"dataframe\">\n  <thead>\n    <tr style=\"text-align: right;\">\n      <th></th>\n      <th>age</th>\n      <th>sex</th>\n      <th>bmi</th>\n      <th>children</th>\n      <th>smoker</th>\n      <th>region</th>\n      <th>charges</th>\n    </tr>\n  </thead>\n  <tbody>\n    <tr>\n      <th>0</th>\n      <td>19</td>\n      <td>female</td>\n      <td>27.90</td>\n      <td>0</td>\n      <td>yes</td>\n      <td>southwest</td>\n      <td>16884.9240</td>\n    </tr>\n    <tr>\n      <th>1</th>\n      <td>18</td>\n      <td>male</td>\n      <td>33.77</td>\n      <td>1</td>\n      <td>no</td>\n      <td>southeast</td>\n      <td>1725.5523</td>\n    </tr>\n    <tr>\n      <th>2</th>\n      <td>28</td>\n      <td>male</td>\n      <td>33.00</td>\n      <td>3</td>\n      <td>no</td>\n      <td>southeast</td>\n      <td>4449.4620</td>\n    </tr>\n  </tbody>\n</table>\n</div>"
     },
     "execution_count": 2,
     "metadata": {},
     "output_type": "execute_result"
    }
   ],
   "source": [
    "import pandas as pd\n",
    "df = pd.read_csv('insurance.csv')\n",
    "df.head(3)"
   ]
  },
  {
   "cell_type": "code",
   "execution_count": 3,
   "outputs": [
    {
     "data": {
      "text/plain": "age                28\nsex              male\nbmi              33.0\nchildren            3\nsmoker             no\nregion      southeast\ncharges      4449.462\nName: 2, dtype: object"
     },
     "execution_count": 3,
     "metadata": {},
     "output_type": "execute_result"
    }
   ],
   "source": [
    "df.iloc[2]"
   ],
   "metadata": {
    "collapsed": false,
    "pycharm": {
     "name": "#%%\n"
    }
   }
  },
  {
   "cell_type": "code",
   "execution_count": 5,
   "outputs": [
    {
     "data": {
      "text/plain": "age                18\nsex              male\nbmi             33.77\nchildren            1\nsmoker             no\nregion      southeast\ncharges     1725.5523\nName: 1, dtype: object"
     },
     "execution_count": 5,
     "metadata": {},
     "output_type": "execute_result"
    }
   ],
   "source": [
    "df.iloc[1]"
   ],
   "metadata": {
    "collapsed": false,
    "pycharm": {
     "name": "#%%\n"
    }
   }
  },
  {
   "cell_type": "code",
   "execution_count": 6,
   "outputs": [
    {
     "data": {
      "text/plain": "   age     sex    bmi  children smoker     region     charges\n2   28    male  33.00         3     no  southeast   4449.4620\n1   18    male  33.77         1     no  southeast   1725.5523\n0   19  female  27.90         0    yes  southwest  16884.9240",
      "text/html": "<div>\n<style scoped>\n    .dataframe tbody tr th:only-of-type {\n        vertical-align: middle;\n    }\n\n    .dataframe tbody tr th {\n        vertical-align: top;\n    }\n\n    .dataframe thead th {\n        text-align: right;\n    }\n</style>\n<table border=\"1\" class=\"dataframe\">\n  <thead>\n    <tr style=\"text-align: right;\">\n      <th></th>\n      <th>age</th>\n      <th>sex</th>\n      <th>bmi</th>\n      <th>children</th>\n      <th>smoker</th>\n      <th>region</th>\n      <th>charges</th>\n    </tr>\n  </thead>\n  <tbody>\n    <tr>\n      <th>2</th>\n      <td>28</td>\n      <td>male</td>\n      <td>33.00</td>\n      <td>3</td>\n      <td>no</td>\n      <td>southeast</td>\n      <td>4449.4620</td>\n    </tr>\n    <tr>\n      <th>1</th>\n      <td>18</td>\n      <td>male</td>\n      <td>33.77</td>\n      <td>1</td>\n      <td>no</td>\n      <td>southeast</td>\n      <td>1725.5523</td>\n    </tr>\n    <tr>\n      <th>0</th>\n      <td>19</td>\n      <td>female</td>\n      <td>27.90</td>\n      <td>0</td>\n      <td>yes</td>\n      <td>southwest</td>\n      <td>16884.9240</td>\n    </tr>\n  </tbody>\n</table>\n</div>"
     },
     "execution_count": 6,
     "metadata": {},
     "output_type": "execute_result"
    }
   ],
   "source": [
    "df.iloc[[2,1,0]]"
   ],
   "metadata": {
    "collapsed": false,
    "pycharm": {
     "name": "#%%\n"
    }
   }
  },
  {
   "cell_type": "code",
   "execution_count": 7,
   "outputs": [
    {
     "data": {
      "text/plain": "   age     sex    bmi  children smoker     region     charges\n0   19  female  27.90         0    yes  southwest  16884.9240\n1   18    male  33.77         1     no  southeast   1725.5523\n2   28    male  33.00         3     no  southeast   4449.4620",
      "text/html": "<div>\n<style scoped>\n    .dataframe tbody tr th:only-of-type {\n        vertical-align: middle;\n    }\n\n    .dataframe tbody tr th {\n        vertical-align: top;\n    }\n\n    .dataframe thead th {\n        text-align: right;\n    }\n</style>\n<table border=\"1\" class=\"dataframe\">\n  <thead>\n    <tr style=\"text-align: right;\">\n      <th></th>\n      <th>age</th>\n      <th>sex</th>\n      <th>bmi</th>\n      <th>children</th>\n      <th>smoker</th>\n      <th>region</th>\n      <th>charges</th>\n    </tr>\n  </thead>\n  <tbody>\n    <tr>\n      <th>0</th>\n      <td>19</td>\n      <td>female</td>\n      <td>27.90</td>\n      <td>0</td>\n      <td>yes</td>\n      <td>southwest</td>\n      <td>16884.9240</td>\n    </tr>\n    <tr>\n      <th>1</th>\n      <td>18</td>\n      <td>male</td>\n      <td>33.77</td>\n      <td>1</td>\n      <td>no</td>\n      <td>southeast</td>\n      <td>1725.5523</td>\n    </tr>\n    <tr>\n      <th>2</th>\n      <td>28</td>\n      <td>male</td>\n      <td>33.00</td>\n      <td>3</td>\n      <td>no</td>\n      <td>southeast</td>\n      <td>4449.4620</td>\n    </tr>\n  </tbody>\n</table>\n</div>"
     },
     "execution_count": 7,
     "metadata": {},
     "output_type": "execute_result"
    }
   ],
   "source": [
    "df[:3]"
   ],
   "metadata": {
    "collapsed": false,
    "pycharm": {
     "name": "#%%\n"
    }
   }
  },
  {
   "cell_type": "code",
   "execution_count": 8,
   "outputs": [
    {
     "data": {
      "text/plain": "   age     sex    bmi  children smoker     region    charges\n4   32    male  28.88         0     no  northwest  3866.8552\n5   31  female  25.74         0     no  southeast  3756.6216\n6   46  female  33.44         1     no  southeast  8240.5896\n7   37  female  27.74         3     no  northwest  7281.5056",
      "text/html": "<div>\n<style scoped>\n    .dataframe tbody tr th:only-of-type {\n        vertical-align: middle;\n    }\n\n    .dataframe tbody tr th {\n        vertical-align: top;\n    }\n\n    .dataframe thead th {\n        text-align: right;\n    }\n</style>\n<table border=\"1\" class=\"dataframe\">\n  <thead>\n    <tr style=\"text-align: right;\">\n      <th></th>\n      <th>age</th>\n      <th>sex</th>\n      <th>bmi</th>\n      <th>children</th>\n      <th>smoker</th>\n      <th>region</th>\n      <th>charges</th>\n    </tr>\n  </thead>\n  <tbody>\n    <tr>\n      <th>4</th>\n      <td>32</td>\n      <td>male</td>\n      <td>28.88</td>\n      <td>0</td>\n      <td>no</td>\n      <td>northwest</td>\n      <td>3866.8552</td>\n    </tr>\n    <tr>\n      <th>5</th>\n      <td>31</td>\n      <td>female</td>\n      <td>25.74</td>\n      <td>0</td>\n      <td>no</td>\n      <td>southeast</td>\n      <td>3756.6216</td>\n    </tr>\n    <tr>\n      <th>6</th>\n      <td>46</td>\n      <td>female</td>\n      <td>33.44</td>\n      <td>1</td>\n      <td>no</td>\n      <td>southeast</td>\n      <td>8240.5896</td>\n    </tr>\n    <tr>\n      <th>7</th>\n      <td>37</td>\n      <td>female</td>\n      <td>27.74</td>\n      <td>3</td>\n      <td>no</td>\n      <td>northwest</td>\n      <td>7281.5056</td>\n    </tr>\n  </tbody>\n</table>\n</div>"
     },
     "execution_count": 8,
     "metadata": {},
     "output_type": "execute_result"
    }
   ],
   "source": [
    "df[4:8]"
   ],
   "metadata": {
    "collapsed": false,
    "pycharm": {
     "name": "#%%\n"
    }
   }
  },
  {
   "cell_type": "code",
   "execution_count": 9,
   "outputs": [
    {
     "data": {
      "text/plain": "0    southwest\n1    southeast\n2    southeast\nName: region, dtype: object"
     },
     "execution_count": 9,
     "metadata": {},
     "output_type": "execute_result"
    }
   ],
   "source": [
    "df['region'].head(3)"
   ],
   "metadata": {
    "collapsed": false,
    "pycharm": {
     "name": "#%%\n"
    }
   }
  },
  {
   "cell_type": "code",
   "execution_count": 11,
   "outputs": [
    {
     "data": {
      "text/plain": "  smoker     region\n0    yes  southwest\n1     no  southeast\n2     no  southeast",
      "text/html": "<div>\n<style scoped>\n    .dataframe tbody tr th:only-of-type {\n        vertical-align: middle;\n    }\n\n    .dataframe tbody tr th {\n        vertical-align: top;\n    }\n\n    .dataframe thead th {\n        text-align: right;\n    }\n</style>\n<table border=\"1\" class=\"dataframe\">\n  <thead>\n    <tr style=\"text-align: right;\">\n      <th></th>\n      <th>smoker</th>\n      <th>region</th>\n    </tr>\n  </thead>\n  <tbody>\n    <tr>\n      <th>0</th>\n      <td>yes</td>\n      <td>southwest</td>\n    </tr>\n    <tr>\n      <th>1</th>\n      <td>no</td>\n      <td>southeast</td>\n    </tr>\n    <tr>\n      <th>2</th>\n      <td>no</td>\n      <td>southeast</td>\n    </tr>\n  </tbody>\n</table>\n</div>"
     },
     "execution_count": 11,
     "metadata": {},
     "output_type": "execute_result"
    }
   ],
   "source": [
    "df[['smoker', 'region']][:3]"
   ],
   "metadata": {
    "collapsed": false,
    "pycharm": {
     "name": "#%%\n"
    }
   }
  },
  {
   "cell_type": "code",
   "execution_count": 12,
   "outputs": [
    {
     "data": {
      "text/plain": "2    no\nName: smoker, dtype: object"
     },
     "execution_count": 12,
     "metadata": {},
     "output_type": "execute_result"
    }
   ],
   "source": [
    "df.smoker.iloc[[2]]"
   ],
   "metadata": {
    "collapsed": false,
    "pycharm": {
     "name": "#%%\n"
    }
   }
  },
  {
   "cell_type": "code",
   "execution_count": 13,
   "outputs": [
    {
     "data": {
      "text/plain": "0    False\n1     True\n2     True\nName: smoker, dtype: bool"
     },
     "execution_count": 13,
     "metadata": {},
     "output_type": "execute_result"
    }
   ],
   "source": [
    "(df.smoker == 'no').head(3)"
   ],
   "metadata": {
    "collapsed": false,
    "pycharm": {
     "name": "#%%\n"
    }
   }
  },
  {
   "cell_type": "code",
   "execution_count": 14,
   "outputs": [
    {
     "data": {
      "text/plain": "      age     sex   bmi  children smoker     region      charges\n0      19  female  27.9         0    yes  southwest  16884.92400\n12     23    male  34.4         0     no  southwest   1826.84300\n15     19    male  24.6         1     no  southwest   1837.23700\n17     30    male  35.3         0    yes  southwest  36837.46700\n19     30  female  32.4         1     no  southwest   4149.73600\n...   ...     ...   ...       ...    ...        ...          ...\n1222   19  female  20.6         0     no  southwest   1731.67700\n1235   52    male  38.6         2     no  southwest  10325.20600\n1237   23  female  33.4         0     no  southwest  10795.93733\n1238   52  female  44.7         3     no  southwest  11411.68500\n1242   21  female  25.8         0     no  southwest   2007.94500\n\n[309 rows x 7 columns]",
      "text/html": "<div>\n<style scoped>\n    .dataframe tbody tr th:only-of-type {\n        vertical-align: middle;\n    }\n\n    .dataframe tbody tr th {\n        vertical-align: top;\n    }\n\n    .dataframe thead th {\n        text-align: right;\n    }\n</style>\n<table border=\"1\" class=\"dataframe\">\n  <thead>\n    <tr style=\"text-align: right;\">\n      <th></th>\n      <th>age</th>\n      <th>sex</th>\n      <th>bmi</th>\n      <th>children</th>\n      <th>smoker</th>\n      <th>region</th>\n      <th>charges</th>\n    </tr>\n  </thead>\n  <tbody>\n    <tr>\n      <th>0</th>\n      <td>19</td>\n      <td>female</td>\n      <td>27.9</td>\n      <td>0</td>\n      <td>yes</td>\n      <td>southwest</td>\n      <td>16884.92400</td>\n    </tr>\n    <tr>\n      <th>12</th>\n      <td>23</td>\n      <td>male</td>\n      <td>34.4</td>\n      <td>0</td>\n      <td>no</td>\n      <td>southwest</td>\n      <td>1826.84300</td>\n    </tr>\n    <tr>\n      <th>15</th>\n      <td>19</td>\n      <td>male</td>\n      <td>24.6</td>\n      <td>1</td>\n      <td>no</td>\n      <td>southwest</td>\n      <td>1837.23700</td>\n    </tr>\n    <tr>\n      <th>17</th>\n      <td>30</td>\n      <td>male</td>\n      <td>35.3</td>\n      <td>0</td>\n      <td>yes</td>\n      <td>southwest</td>\n      <td>36837.46700</td>\n    </tr>\n    <tr>\n      <th>19</th>\n      <td>30</td>\n      <td>female</td>\n      <td>32.4</td>\n      <td>1</td>\n      <td>no</td>\n      <td>southwest</td>\n      <td>4149.73600</td>\n    </tr>\n    <tr>\n      <th>...</th>\n      <td>...</td>\n      <td>...</td>\n      <td>...</td>\n      <td>...</td>\n      <td>...</td>\n      <td>...</td>\n      <td>...</td>\n    </tr>\n    <tr>\n      <th>1222</th>\n      <td>19</td>\n      <td>female</td>\n      <td>20.6</td>\n      <td>0</td>\n      <td>no</td>\n      <td>southwest</td>\n      <td>1731.67700</td>\n    </tr>\n    <tr>\n      <th>1235</th>\n      <td>52</td>\n      <td>male</td>\n      <td>38.6</td>\n      <td>2</td>\n      <td>no</td>\n      <td>southwest</td>\n      <td>10325.20600</td>\n    </tr>\n    <tr>\n      <th>1237</th>\n      <td>23</td>\n      <td>female</td>\n      <td>33.4</td>\n      <td>0</td>\n      <td>no</td>\n      <td>southwest</td>\n      <td>10795.93733</td>\n    </tr>\n    <tr>\n      <th>1238</th>\n      <td>52</td>\n      <td>female</td>\n      <td>44.7</td>\n      <td>3</td>\n      <td>no</td>\n      <td>southwest</td>\n      <td>11411.68500</td>\n    </tr>\n    <tr>\n      <th>1242</th>\n      <td>21</td>\n      <td>female</td>\n      <td>25.8</td>\n      <td>0</td>\n      <td>no</td>\n      <td>southwest</td>\n      <td>2007.94500</td>\n    </tr>\n  </tbody>\n</table>\n<p>309 rows × 7 columns</p>\n</div>"
     },
     "execution_count": 14,
     "metadata": {},
     "output_type": "execute_result"
    }
   ],
   "source": [
    "df[df.region == 'southwest']"
   ],
   "metadata": {
    "collapsed": false,
    "pycharm": {
     "name": "#%%\n"
    }
   }
  },
  {
   "cell_type": "code",
   "execution_count": null,
   "outputs": [],
   "source": [],
   "metadata": {
    "collapsed": false,
    "pycharm": {
     "name": "#%%\n"
    }
   }
  }
 ],
 "metadata": {
  "kernelspec": {
   "display_name": "Python 3",
   "language": "python",
   "name": "python3"
  },
  "language_info": {
   "codemirror_mode": {
    "name": "ipython",
    "version": 2
   },
   "file_extension": ".py",
   "mimetype": "text/x-python",
   "name": "python",
   "nbconvert_exporter": "python",
   "pygments_lexer": "ipython2",
   "version": "2.7.6"
  }
 },
 "nbformat": 4,
 "nbformat_minor": 0
}